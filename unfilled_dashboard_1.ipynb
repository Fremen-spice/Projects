{
 "cells": [
  {
   "cell_type": "code",
   "execution_count": null,
   "metadata": {},
   "outputs": [],
   "source": [
    "import pandas as pd\n",
    "import numpy as np\n",
    "import plotly.express as px\n",
    "from google.colab import files\n",
    "import plotly.io as pio\n"
   ]
  },
  {
   "cell_type": "code",
   "execution_count": null,
   "metadata": {},
   "outputs": [],
   "source": [
    "# 1. Download report from the link with the same dimensions (can be with any filters): https://admanager.google.com/8095840#reports/report/create/results_id=13740157286\n",
    "\n",
    "# 2. Apply some data cleaning, so that column names are row 1, Total row is removed, ID columns removed and the rest of the columns have the following names:\n",
    "#     ad_unit\tdevice_cat\tmonth_year\tunfilled\ttotal_im\trevenue\n",
    "\n",
    "# 3. Use the below command to upload the CSV file\n",
    "\n",
    "uploaded = files.upload()"
   ]
  },
  {
   "cell_type": "code",
   "execution_count": null,
   "metadata": {},
   "outputs": [],
   "source": [
    "df = pd.read_csv(\"test.csv\")"
   ]
  },
  {
   "cell_type": "code",
   "execution_count": null,
   "metadata": {},
   "outputs": [],
   "source": [
    "# Some data cleaning\n",
    "df['revenue'] = df['revenue'].str.replace(',', '')\n",
    "df['total_im'] = df['total_im'].str.replace(',', '')\n",
    "df['unfilled'] = df['unfilled'].str.replace(',', '')\n",
    "df['revenue'] = pd.to_numeric(df['revenue'].astype(float))\n",
    "df['total_im'] = pd.to_numeric(df['total_im'])\n",
    "df['unfilled'] = pd.to_numeric(df['unfilled'])\n",
    "df['month_year'] = pd.to_datetime(df['month_year'], format='%b-%y').dt.to_period('M')\n",
    "\n",
    "# Drop rows where 'device_cat' is equal to 'connected tv' or 'f phone'\n",
    "df = df.drop(df[(df['device_cat'] == 'Connected TV') | (df['device_cat'] == 'Feature phone') | (df['device_cat'] == 'Set-top box')].index)\n",
    "\n",
    "# Reset the index\n",
    "df = df.reset_index(drop=True)\n",
    "df"
   ]
  },
  {
   "cell_type": "code",
   "execution_count": null,
   "metadata": {},
   "outputs": [],
   "source": [
    "# Ensure unfilled, total_im and revenue are numeric\n",
    "df.dtypes"
   ]
  },
  {
   "cell_type": "code",
   "execution_count": null,
   "metadata": {},
   "outputs": [],
   "source": [
    "df.describe().loc[\"max\"].round(0)"
   ]
  },
  {
   "cell_type": "code",
   "execution_count": null,
   "metadata": {},
   "outputs": [],
   "source": [
    "# dimensions can be adjusted - whether the purpose is to check ad units or devices\n",
    "fig = px.scatter(df, x=\"total_im\", y=\"unfilled\", animation_frame=\"month_year\", animation_group=\"ad_unit\",\n",
    "           size=\"revenue\", color=\"device_cat\", hover_name=\"ad_unit\",\n",
    "           log_x=False, size_max=60, range_x=[0,70_000_000], range_y=[0,25_000_000],\n",
    "           height=700, width=1300)\n",
    "# Change the speed of the animation - more -> slower\n",
    "fig.update_layout(transition = {'duration': 2000})\n",
    "fig.show()"
   ]
  },
  {
   "attachments": {},
   "cell_type": "markdown",
   "metadata": {},
   "source": [
    "# IF download is needed in order to be shared:"
   ]
  },
  {
   "cell_type": "code",
   "execution_count": null,
   "metadata": {},
   "outputs": [],
   "source": [
    "# create HTML\n",
    "html_file = \"/content/animated_scatter_plot.html\"\n",
    "# Save the plot as an HTML file\n",
    "fig.write_html(html_file)\n",
    "# Download the HTML file\n",
    "files.download(html_file)\n",
    "\n",
    "#click below to download"
   ]
  }
 ],
 "metadata": {
  "language_info": {
   "name": "python"
  },
  "orig_nbformat": 4
 },
 "nbformat": 4,
 "nbformat_minor": 2
}
